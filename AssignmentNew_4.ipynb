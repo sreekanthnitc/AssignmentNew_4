{
 "cells": [
  {
   "cell_type": "markdown",
   "metadata": {},
   "source": [
    "# 1 Write a Python Program(with class concepts) to find the area of the triangle using the below\n",
    "formula.\n",
    "area = (s*(s-a)*(s-b)*(s-c)) ** 0.5\n",
    "Function to take the length of the sides of triangle from user should be defined in the parent\n",
    "class and function to calculate the area should be defined in subclass."
   ]
  },
  {
   "cell_type": "code",
   "execution_count": 1,
   "metadata": {},
   "outputs": [],
   "source": [
    "class Triangle:\n",
    "    def __init__(self, side1, side2, side3):\n",
    "      self.side1 = side1\n",
    "      self.side2 = side2\n",
    "      self.side3 = side3\n",
    "      print (\"Initialised Triagle super class [\" +  str(side1) + \",\" + str(side2) + \",\" + str(side3) + \"]\")\n"
   ]
  },
  {
   "cell_type": "code",
   "execution_count": 2,
   "metadata": {},
   "outputs": [
    {
     "name": "stdout",
     "output_type": "stream",
     "text": [
      "Initialised Utils Child class\n",
      "Initialised Triagle super class [3,4,5]\n",
      "6.0\n",
      "Area of triangle = 6.0\n"
     ]
    }
   ],
   "source": [
    "class Triangle_Utilities(Triangle):\n",
    "    def __init__(self, side1, side2, side3):\n",
    "       print (\"Initialised Utils Child class\" )\n",
    "       super(Triangle_Utilities, self).__init__(side1, side2, side3)\n",
    "\n",
    "    def get_area(self):\n",
    "      s = (self.side1 + self.side2 + self.side3)/2\n",
    "      print (str(s))\n",
    "      return (s*(s-self.side1)*(s-self.side2)*(s-self.side3))**0.5\n",
    "\n",
    "instance = Triangle_Utilities(3,4,5)\n",
    "\n",
    "print (\"Area of triangle = \" + str(instance.get_area()) )"
   ]
  },
  {
   "cell_type": "markdown",
   "metadata": {},
   "source": [
    "# 2 Write a function filter_long_words() that takes a list of words and an integer n and returns the list of words that are longer than n."
   ]
  },
  {
   "cell_type": "code",
   "execution_count": 3,
   "metadata": {},
   "outputs": [
    {
     "name": "stdout",
     "output_type": "stream",
     "text": [
      "Initialised list_Utilities object\n",
      "New List of Words with Length greater than 2: ['Sreekanth', 'attending', 'Data Science', 'Course', 'with', 'AcadGild']\n",
      "New List of Words with length greater than 3: ['Sreekanth', 'attending', 'Data Science', 'Course', 'AcadGild']\n"
     ]
    }
   ],
   "source": [
    "class list_Utilities:\n",
    "    def __init__(self, wordlist):\n",
    "      self.wordlist = wordlist\n",
    "      print (\"Initialised list_Utilities object\")\n",
    "    \n",
    "    def filter_long_words(self, n):\n",
    "      return list(filter(lambda x:len(x) > n, self.wordlist))\n",
    "\n",
    "instance = list_Utilities([\"Sreekanth\",\"is\",\"attending\",\"Data Science\",\"Course\", \"with\", \"AcadGild\"])\n",
    "\n",
    "print (\"New List of Words with Length greater than 2: \" + str(instance.filter_long_words(3)) ) \n",
    "print (\"New List of Words with length greater than 3: \" + str(instance.filter_long_words(4)) ) "
   ]
  },
  {
   "cell_type": "markdown",
   "metadata": {},
   "source": [
    "# 3 Write a Python program using function concept that maps list of words into a list of integers representing the lengths of the corresponding words."
   ]
  },
  {
   "cell_type": "code",
   "execution_count": 4,
   "metadata": {},
   "outputs": [
    {
     "name": "stdout",
     "output_type": "stream",
     "text": [
      "List of Words : ['sree', 'kanth', 'acad', 'gild', 'se', 'Bangalore', 'Machine Learning', 'Deep Learning']\n",
      "word lengths in array  [4, 5, 4, 4, 2, 9, 16, 13]\n"
     ]
    }
   ],
   "source": [
    "wordlist = ['sree', 'kanth', 'acad', 'gild' , 'se' , 'Bangalore', 'Machine Learning', 'Deep Learning']\n",
    "def wordlength(wordlist):\n",
    "  return list(map(lambda x: len(x), wordlist))\n",
    "\n",
    "print (\"List of Words : \" + str(wordlist))    \n",
    "print (\"word lengths in array  \" + str(wordlength(wordlist)))"
   ]
  },
  {
   "cell_type": "markdown",
   "metadata": {},
   "source": [
    "# 4 Write a Python function which takes a character (i.e. a string of length 1) and returns True if it is a vowel, False otherwise."
   ]
  },
  {
   "cell_type": "code",
   "execution_count": 5,
   "metadata": {},
   "outputs": [
    {
     "name": "stdout",
     "output_type": "stream",
     "text": [
      "Enter character: d\n",
      "d is not a vowel.\n"
     ]
    }
   ],
   "source": [
    "def vowel_check(char):\n",
    "  if(char == 'a' or char == 'e' or char == 'i' or char == 'o' or char == 'u'):\n",
    "    return True\n",
    "  else:\n",
    "    return False\n",
    "\n",
    "# Take user input\n",
    "char = input(\"Enter character: \");\n",
    "\n",
    "# If Invalid input, exit\n",
    "if (char.isalpha() == False):\n",
    " exit();\n",
    "\n",
    "# Invoke function\n",
    "if (vowel_check(char)):\n",
    "  print(char, \"is a vowel.\");\n",
    "else:\n",
    " print(char, \"is not a vowel.\"); \n",
    "\n"
   ]
  },
  {
   "cell_type": "code",
   "execution_count": null,
   "metadata": {},
   "outputs": [],
   "source": []
  }
 ],
 "metadata": {
  "kernelspec": {
   "display_name": "Python 3",
   "language": "python",
   "name": "python3"
  },
  "language_info": {
   "codemirror_mode": {
    "name": "ipython",
    "version": 3
   },
   "file_extension": ".py",
   "mimetype": "text/x-python",
   "name": "python",
   "nbconvert_exporter": "python",
   "pygments_lexer": "ipython3",
   "version": "3.6.5"
  }
 },
 "nbformat": 4,
 "nbformat_minor": 2
}
